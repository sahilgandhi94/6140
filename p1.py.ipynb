{
 "cells": [
  {
   "cell_type": "code",
   "execution_count": 57,
   "metadata": {
    "ExecuteTime": {
     "end_time": "2018-01-18T17:57:19.285551Z",
     "start_time": "2018-01-18T17:57:19.278778Z"
    }
   },
   "outputs": [],
   "source": [
    "import math\n",
    "import operator\n",
    "import sys\n",
    "\n",
    "from sympy import *\n",
    "import numpy as np\n",
    "\n",
    "from copy import copy, deepcopy"
   ]
  },
  {
   "cell_type": "code",
   "execution_count": 51,
   "metadata": {
    "ExecuteTime": {
     "end_time": "2018-01-18T17:51:31.286874Z",
     "start_time": "2018-01-18T17:51:31.243631Z"
    }
   },
   "outputs": [],
   "source": [
    "def get_gradient(func, symbols, initial_values, alpha, convergence_criteria=0.005, maximize=False):\n",
    "    assert len(initial_values) == len(symbols)\n",
    "    \n",
    "    values = copy(initial_values)\n",
    "    new_values = copy(initial_values)\n",
    "    \n",
    "    op = operator.add if maximize else operator.sub\n",
    "    \n",
    "    converged = False\n",
    "    while not converged: \n",
    "        for j in range(len(values)):\n",
    "            new_values[j] = op(values[j], alpha*func.diff(symbols[j]).subs(symbols[j], values[j]))\n",
    "            \n",
    "        # check for convergence\n",
    "        converged = True\n",
    "#         print('Values: {}'.format(values))\n",
    "#         print('New values: {}'.format(new_values))\n",
    "        for i in range(len(values)):\n",
    "            if abs(new_values[i] - values[i]) > convergence_criteria:\n",
    "                converged = False\n",
    "                break\n",
    "        values = copy(new_values) # Update values\n",
    "    return values\n",
    "        "
   ]
  },
  {
   "cell_type": "code",
   "execution_count": 61,
   "metadata": {
    "ExecuteTime": {
     "end_time": "2018-01-18T17:59:24.185655Z",
     "start_time": "2018-01-18T17:59:24.162241Z"
    }
   },
   "outputs": [
    {
     "data": {
      "text/plain": [
       "[0.000131621703842267, 0.00977455262145746]"
      ]
     },
     "execution_count": 61,
     "metadata": {},
     "output_type": "execute_result"
    }
   ],
   "source": [
    "x, y = symbols('x y')\n",
    "\n",
    "paraboloid = 4*x**2 + 3*y**2 # global minima at x=0, y=0\n",
    "\n",
    "get_gradient(paraboloid, [x, y], [10, 25], 0.05)"
   ]
  },
  {
   "cell_type": "code",
   "execution_count": null,
   "metadata": {},
   "outputs": [],
   "source": []
  }
 ],
 "metadata": {
  "kernelspec": {
   "display_name": "Python 3",
   "language": "python",
   "name": "python3"
  },
  "language_info": {
   "codemirror_mode": {
    "name": "ipython",
    "version": 3
   },
   "file_extension": ".py",
   "mimetype": "text/x-python",
   "name": "python",
   "nbconvert_exporter": "python",
   "pygments_lexer": "ipython3",
   "version": "3.6.4"
  }
 },
 "nbformat": 4,
 "nbformat_minor": 2
}
